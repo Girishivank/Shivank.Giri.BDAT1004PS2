{
  "nbformat": 4,
  "nbformat_minor": 0,
  "metadata": {
    "colab": {
      "provenance": []
    },
    "kernelspec": {
      "name": "python3",
      "display_name": "Python 3"
    },
    "language_info": {
      "name": "python"
    }
  },
  "cells": [
    {
      "cell_type": "markdown",
      "source": [
        "***Question 1***\n",
        "\n",
        "Consider the following Python module:\n",
        "\n",
        "\n",
        "```\n",
        "a = 0\n",
        "def b():\n",
        " global a\n",
        " a = c(a)\n",
        "def c(a):\n",
        " return a + 2\n",
        "```\n",
        "\n",
        "\n",
        "After importing the module into the interpreter, you execute:\n",
        "\n",
        "\n",
        "```\n",
        ">>> b()\n",
        ">>> b()\n",
        ">>> b()\n",
        ">>> a\n",
        "?\n",
        "```\n",
        "\n",
        "\n",
        "What value is displayed when the last expression (a) is evaluated? Explain your\n",
        "answer by indicating what happens in every executed statement."
      ],
      "metadata": {
        "id": "hyzJcsXGm30p"
      }
    },
    {
      "cell_type": "markdown",
      "source": [
        "***ANSWER.1:***\n",
        "\n",
        "Initially, 'a' is set to 0, which is our starting point.\n",
        "\n",
        "Now, there's a special function called 'b()'. Inside 'b()', there's another function called 'c()' that takes a number and adds 2 to it, returning the result.\n",
        "\n",
        "So, what does 'b()' do? Well, it updates the main 'a' by calling 'c()' with the current value of 'a'. This means that 'a' gets increased by 2 each time we call 'b()'.\n",
        "\n",
        "To see this in action, we call 'b()' three times consecutively. On each call, 'b()' takes the current value of 'a', adds 2 to it using 'c()', and updates the main 'a' with the new value.\n",
        "\n",
        "Finally, we print the value of 'a'. Since we called 'b()' three times, incrementing 'a' by 2 each time, the final value of a will be 6.\n",
        "\n",
        "So, if we run this code, we'll see the number 6 as the output. It's because 'a' was progressively increased by 2 over the course of three calls to 'b()'."
      ],
      "metadata": {
        "id": "jyzN8HDrrPf1"
      }
    },
    {
      "cell_type": "markdown",
      "source": [
        "***Question 2***\n",
        "\n",
        "\n",
        "Function fileLength(), given to you, takes the name of a file as input and returns\n",
        "the length of the file:\n",
        "\n",
        "\n",
        "```\n",
        ">>> fileLength('midterm.py')\n",
        "284\n",
        ">>> fileLength('idterm.py')\n",
        "Traceback (most recent call last):\n",
        "File \"<pyshell#34>\", line 1, in <module>\n",
        " fileLength('idterm.py')\n",
        "File \"/Users/me/midterm.py\", line 3, in fileLength\n",
        " infile = open(filename)\n",
        "FileNotFoundError: [Errno 2] No such file or directory:\n",
        "'idterm.py'\n",
        "```\n",
        "\n",
        "\n",
        "As shown above, if the file cannot be found by the interpreter or if it cannot be read\n",
        "as a text file, an exception will be raised. Modify function fileLength() so that a\n",
        "friendly message is printed instead:\n",
        "\n",
        "\n",
        "```\n",
        ">>> fileLength('midterm.py')\n",
        "358\n",
        ">>> fileLength('idterm.py')\n",
        "File idterm.py not found.\n",
        "```\n",
        "\n",
        "\n"
      ],
      "metadata": {
        "id": "7VwNquJmyKgj"
      }
    },
    {
      "cell_type": "markdown",
      "source": [
        "***ANSWER.2:***"
      ],
      "metadata": {
        "id": "gWUXIh8E1Hqo"
      }
    },
    {
      "cell_type": "code",
      "source": [
        "import os\n",
        "\n",
        "def file_length(file_name):\n",
        "    try:\n",
        "        file = open(file_name)\n",
        "        contents = file.read()\n",
        "        file.close()\n",
        "        print(len(contents))\n",
        "\n",
        "    except FileNotFoundError:\n",
        "        print(f'file {file_name} not found')\n",
        "\n",
        "file_length('mid_term.txt')\n",
        "\n",
        "file_length(\"id_term.py\")"
      ],
      "metadata": {
        "colab": {
          "base_uri": "https://localhost:8080/"
        },
        "id": "z4JH1rZyzdbN",
        "outputId": "5994bc7f-17da-4e1e-9f25-1322e68a6b8c"
      },
      "execution_count": 5,
      "outputs": [
        {
          "output_type": "stream",
          "name": "stdout",
          "text": [
            "79\n",
            "file id_term.py not found\n"
          ]
        }
      ]
    },
    {
      "cell_type": "markdown",
      "source": [
        "***Question 3***\n",
        "\n",
        "Write a class named Marsupial that can be used as shown below:\n",
        "\n",
        "\n",
        "```\n",
        ">>> m = Marsupial()\n",
        ">>> m.put_in_pouch('doll')\n",
        ">>> m.put_in_pouch('firetruck')\n",
        ">>> m.put_in_pouch('kitten')\n",
        ">>> m.pouch_contents()\n",
        "['doll', 'firetruck', 'kitten']\n",
        "```\n",
        "\n",
        "\n",
        "Now write a class named Kangaroo as a subclass of Marsupial that inherits all the\n",
        "attributes of Marsupial and also:\n",
        "a. extends the Marsupial __init__ constructor to take, as input, the\n",
        "coordinates x and y of the Kangaroo object,\n",
        "b. supports method jump that takes number values dx and dy as input and\n",
        "moves the kangaroo by dx units along the x-axis and by dy units along the yaxis, and\n",
        "c. overloads the __str__ operator so it behaves as shown below.\n",
        "\n",
        "\n",
        "```\n",
        ">>> k = Kangaroo(0,0)\n",
        ">>> print(k)\n",
        "I am a Kangaroo located at coordinates (0,0)\n",
        ">>> k.put_in_pouch('doll')\n",
        ">>> k.put_in_pouch('firetruck')\n",
        ">>> k.put_in_pouch('kitten')\n",
        ">>> k.pouch_contents()\n",
        "['doll', 'firetruck', 'kitten']\n",
        ">>> k.jump(1,0)\n",
        ">>> k.jump(1,0)\n",
        ">>> k.jump(1,0)\n",
        ">>> print(k)\n",
        "I am a Kangaroo located at coordinates (3,0)\n",
        "```\n",
        "\n"
      ],
      "metadata": {
        "id": "bLaaZMbP0y_o"
      }
    },
    {
      "cell_type": "markdown",
      "source": [
        "***ANSWER.3:***"
      ],
      "metadata": {
        "id": "nlRuduB92VYI"
      }
    },
    {
      "cell_type": "code",
      "source": [
        "class marsupial(object):\n",
        "  def __init__(self):\n",
        "    self.lst = []\n",
        "  def put_in_pouch(self,thing):\n",
        "    self.lst.append(thing)\n",
        "  def pouch_contents(self):\n",
        "    return self.lst\n",
        "\n",
        "m=marsupial()\n",
        "m.put_in_pouch('doll')\n",
        "m.put_in_pouch('firetruck')\n",
        "m.put_in_pouch('kitten')\n",
        "m.pouch_contents()"
      ],
      "metadata": {
        "colab": {
          "base_uri": "https://localhost:8080/"
        },
        "id": "mVV93JrE2gJl",
        "outputId": "f1917bab-f5a5-44d1-cac9-14c0be6c08d6"
      },
      "execution_count": 6,
      "outputs": [
        {
          "output_type": "execute_result",
          "data": {
            "text/plain": [
              "['doll', 'firetruck', 'kitten']"
            ]
          },
          "metadata": {},
          "execution_count": 6
        }
      ]
    },
    {
      "cell_type": "markdown",
      "source": [
        "Now write a class named Kangaroo as a subclass of Marsupial that inherits all the attributes of Marsupial and also extends the Marsupial init constructor to take, as input, the\n",
        "coordinates x and y of the Kangaroo object, supports method jump that takes number values dx and dy as input and\n",
        "moves the kangaroo by dx units along the x-axis and by dy units along the yaxis, and overloads the str operator so it behaves as shown below."
      ],
      "metadata": {
        "id": "82PNqOJE2kJz"
      }
    },
    {
      "cell_type": "code",
      "source": [
        "class kangaroo(marsupial):\n",
        "  def __init__(self,x,y):\n",
        "    marsupial.__init__(self)\n",
        "    self.x=x\n",
        "    self.y=y\n",
        "  def jump(self,dx,dy):\n",
        "    self.x+=dx\n",
        "    self.y+=dy\n",
        "  def __str__(self):\n",
        "    return 'I am a kangaroo located at coordinates({},{})'.format(self.x,self.y)\n",
        "\n",
        "k = kangaroo(0,0)\n",
        "print(k)\n",
        "\n",
        "k.put_in_pouch('doll')\n",
        "k.put_in_pouch('firetruck')\n",
        "k.put_in_pouch('kitten')\n",
        "print(k.pouch_contents())\n",
        "\n",
        "k.jump(1,0)\n",
        "k.jump(1,0)\n",
        "k.jump(1,0)\n",
        "print(k)"
      ],
      "metadata": {
        "colab": {
          "base_uri": "https://localhost:8080/"
        },
        "id": "7pRY8H2L3YTN",
        "outputId": "e55cca70-39b0-4393-8e3f-12e9f40db71e"
      },
      "execution_count": 7,
      "outputs": [
        {
          "output_type": "stream",
          "name": "stdout",
          "text": [
            "I am a kangaroo located at coordinates(0,0)\n",
            "['doll', 'firetruck', 'kitten']\n",
            "I am a kangaroo located at coordinates(3,0)\n"
          ]
        }
      ]
    },
    {
      "cell_type": "markdown",
      "source": [
        "***Question 4***\n",
        "\n",
        "Write function collatz() that takes a positive integer x as input and prints the\n",
        "Collatz sequence starting at x. A Collatz sequence is obtained by repeatedly applying\n",
        "this rule to the previous number x in the sequence:\n",
        "x = {\n",
        "𝑥/2 𝑖𝑓 𝑥 𝑖𝑠 𝑒𝑣𝑒𝑛\n",
        "3𝑥 + 1 𝑖𝑓 𝑥 𝑖𝑠 𝑜𝑑𝑑\n",
        "Your function should stop when the sequence gets to number 1. Your\n",
        "implementation must be recursive, without any loops.\n",
        "\n",
        "\n",
        "```\n",
        ">>> collatz(1)\n",
        "1\n",
        ">>> collatz(10)\n",
        "10\n",
        "5\n",
        "16\n",
        "8\n",
        "4\n",
        "2\n",
        "1\n",
        "```\n",
        "\n",
        "\n"
      ],
      "metadata": {
        "id": "8azWGxn43lJ3"
      }
    },
    {
      "cell_type": "markdown",
      "source": [
        "***ANSWER.4:***"
      ],
      "metadata": {
        "id": "4yndRbC24FnF"
      }
    },
    {
      "cell_type": "code",
      "source": [
        "def collatz(n):\n",
        "  print(\"output: \",end=\" \")\n",
        "  while(not n==1):\n",
        "    print(n,end=\" \")\n",
        "    if(n%2==0):\n",
        "      n=n//2\n",
        "    else:\n",
        "      n=3*n+1\n",
        "  print(n)\n",
        "\n",
        "collatz(1)\n",
        "collatz(10)"
      ],
      "metadata": {
        "colab": {
          "base_uri": "https://localhost:8080/"
        },
        "id": "uTli1f9c4VSp",
        "outputId": "c0608bfc-e470-47d9-818e-18d5ad25cc89"
      },
      "execution_count": 9,
      "outputs": [
        {
          "output_type": "stream",
          "name": "stdout",
          "text": [
            "output:  1\n",
            "output:  10 5 16 8 4 2 1\n"
          ]
        }
      ]
    },
    {
      "cell_type": "markdown",
      "source": [
        "***Question 5***\n",
        "\n",
        "Write a recursive method binary() that takes a non-negative\n",
        "integer n and prints the binary representation of integer n.\n",
        "\n",
        "\n",
        "```\n",
        ">>> binary(0)\n",
        "0\n",
        ">>> binary(1)\n",
        "1\n",
        ">>> binary(3)\n",
        "11\n",
        ">>> binary(9)\n",
        "1001\n",
        "```\n",
        "\n",
        "\n"
      ],
      "metadata": {
        "id": "81sOAVCC5Xyl"
      }
    },
    {
      "cell_type": "markdown",
      "source": [
        "***ANSWER.5:***"
      ],
      "metadata": {
        "id": "RU45sMSc6kEB"
      }
    },
    {
      "cell_type": "code",
      "source": [
        "def binary(number):\n",
        "\n",
        "    if number == 0:\n",
        "        return 0\n",
        "\n",
        "    ans = binary(number // 2)\n",
        "\n",
        "    return number % 2 + 10 * ans\n",
        "print(binary(0))\n",
        "print(binary(1))\n",
        "print(binary(3))\n",
        "print(binary(9))"
      ],
      "metadata": {
        "colab": {
          "base_uri": "https://localhost:8080/"
        },
        "id": "tUf4LeuF6iPO",
        "outputId": "71fc14ae-6cf6-4778-df77-3b9afba5380f"
      },
      "execution_count": 10,
      "outputs": [
        {
          "output_type": "stream",
          "name": "stdout",
          "text": [
            "0\n",
            "1\n",
            "11\n",
            "1001\n"
          ]
        }
      ]
    },
    {
      "cell_type": "markdown",
      "source": [
        "***Question 6***\n",
        "\n",
        "Implement a class named HeadingParser that can be used to parse an HTML\n",
        "document, and retrieve and print all the headings in the document. You should\n",
        "implement your class as a subclass of HTMLParser, defined in Standard Library\n",
        "module html.parser. When fed a string containing HTML code, your class should\n",
        "print the headings, one per line and in the order in which they appear in the\n",
        "document. Each heading should be indented as follows: an h1 heading should have indentation 0, and h2 heading should have indentation 1, etc. Test your\n",
        "implementation using w3c.html.\n",
        "\n",
        "\n",
        "```\n",
        ">>> infile = open('w3c.html')\n",
        ">>> content = infile.read()\n",
        ">>> infile.close()\n",
        ">>> hp = HeadingParser()\n",
        ">>> hp.feed(content)\n",
        "W3C Mission\n",
        "Principles\n",
        "```\n",
        "\n",
        "\n"
      ],
      "metadata": {
        "id": "mDlGtJDL6v4i"
      }
    },
    {
      "cell_type": "markdown",
      "source": [
        "***ANSWER.6:***"
      ],
      "metadata": {
        "id": "Q0wDFe588nqv"
      }
    },
    {
      "cell_type": "code",
      "source": [
        "from html.parser import HTMLParser\n",
        "\n",
        "class HeadingParser(HTMLParser):\n",
        "    headers = [\"h1\", \"h2\",\"h3\",\"h4\",\"h5\",\"h6\"]\n",
        "    current = -1\n",
        "\n",
        "    def handle_starttag(self, tag, attrs):\n",
        "        if tag in HeadingParser.headers:\n",
        "            HeadingParser.current = HeadingParser.headers.index(tag)\n",
        "\n",
        "    def handle_endtag(self, tag):\n",
        "        if tag == HeadingParser.headers[HeadingParser.current]:\n",
        "            HeadingParser.current = -1\n",
        "\n",
        "    def handle_data(self, data):\n",
        "        if HeadingParser.current >= 0:\n",
        "            print(\" \" * HeadingParser.current + data)\n",
        "\n",
        "infile = open(\"w3c.html\",\"r\")\n",
        "content = infile.read()\n",
        "infile.close()\n",
        "hp = HeadingParser()\n",
        "hp.feed(content)"
      ],
      "metadata": {
        "colab": {
          "base_uri": "https://localhost:8080/"
        },
        "id": "yz2Fxsi98wIp",
        "outputId": "5f6c0183-dd41-472c-f02f-3f9964da8d0f"
      },
      "execution_count": 16,
      "outputs": [
        {
          "output_type": "stream",
          "name": "stdout",
          "text": [
            "W3C Mission\n",
            " Principles\n"
          ]
        }
      ]
    },
    {
      "cell_type": "markdown",
      "source": [
        "***Question 7***\n",
        "\n",
        "Implement recursive function webdir() that takes as input: a URL (as a string) and\n",
        "non-negative integers depth and indent. Your function should visit every web\n",
        "page reachable from the starting URL web page in depth clicks or less, and print\n",
        "each web page's URL. As shown below, indentation, specified by indent, should\n",
        "be used to indicate the depth of a URL.\n",
        "\n",
        "\n",
        "```\n",
        ">>>\n",
        "webdir('http://reed.cs.depaul.edu/lperkovic/csc242/test1.html'\n",
        ", 2, 0)\n",
        "http://reed.cs.depaul.edu/lperkovic/csc242/test1.html\n",
        " http://reed.cs.depaul.edu/lperkovic/csc242/test2.html\n",
        " http://reed.cs.depaul.edu/lperkovic/csc242/test4.html\n",
        " http://reed.cs.depaul.edu/lperkovic/csc242/test3.html\n",
        " http://reed.cs.depaul.edu/lperkovic/csc242/test4.html\n",
        "```\n",
        "\n",
        "\n",
        "\n"
      ],
      "metadata": {
        "id": "pxKxY3aC-XI7"
      }
    },
    {
      "cell_type": "markdown",
      "source": [
        "***ANSWER.7:***"
      ],
      "metadata": {
        "id": "fPIcjd09AY0s"
      }
    },
    {
      "cell_type": "code",
      "source": [
        "from urllib.parse import urljoin\n",
        "from urllib.request import urlopen\n",
        "from html.parser import HTMLParser\n",
        "\n",
        "class Collector(HTMLParser):\n",
        "\n",
        "  def __init__(self,url):\n",
        "    super().__init__()\n",
        "    self.url = url\n",
        "    self.links = []\n",
        "\n",
        "  def handle_starttag(self, tag, attrs):\n",
        "    if tag == 'a':\n",
        "      for attr in attrs:\n",
        "        if attr[0] == 'href':\n",
        "          absolute = urljoin(self.url, attr[1])\n",
        "          if absolute[:4] == 'http':\n",
        "            self.links.append(absolute)\n",
        "\n",
        "  def getLinks(self):\n",
        "    return self.links\n",
        "\n",
        "\n",
        "def webdir(url, depth, indent):\n",
        "  if depth < 0:\n",
        "    pass\n",
        "\n",
        "  print(\"\\t\"*indent + url)\n",
        "  resource = urlopen(url)\n",
        "  content = resource.read().decode()\n",
        "  collector = Collector(url)\n",
        "  collector.feed(content)\n",
        "  links = collector.getLinks()\n",
        "\n",
        "  for link in links:\n",
        "    webdir(link, depth-1, indent+1)\n",
        "\n",
        "\n",
        "webdir(\"http://reed.cs.depaul.edu/lperkovic/test1.html\",2,0)"
      ],
      "metadata": {
        "colab": {
          "base_uri": "https://localhost:8080/"
        },
        "id": "vDnANYZZAdee",
        "outputId": "97fb5884-45d4-4c70-c9b3-51bd72a9cf32"
      },
      "execution_count": 17,
      "outputs": [
        {
          "output_type": "stream",
          "name": "stdout",
          "text": [
            "http://reed.cs.depaul.edu/lperkovic/test1.html\n",
            "\thttp://reed.cs.depaul.edu/lperkovic/test2.html\n",
            "\t\thttp://reed.cs.depaul.edu/lperkovic/test4.html\n",
            "\thttp://reed.cs.depaul.edu/lperkovic/test3.html\n",
            "\t\thttp://reed.cs.depaul.edu/lperkovic/test4.html\n"
          ]
        }
      ]
    },
    {
      "cell_type": "markdown",
      "source": [
        "***Question 8***\n",
        "\n",
        "Write SQL queries on the below database table that return:\n",
        "\n",
        "a) All the temperature data.\n",
        "\n",
        "b) All the cities, but without repetition.\n",
        "\n",
        "c) All the records for India.\n",
        "\n",
        "d) All the Fall records.\n",
        "\n",
        "e) The city, country, and season for which the average rainfall is between 200\n",
        "and 400 millimeters.\n",
        "\n",
        "f) The city and country for which the average Fall temperature is above 20\n",
        "degrees, in increasing temperature order.\n",
        "\n",
        "g) The total annual rainfall for Cairo.\n",
        "\n",
        "h) The total rainfall for each season.\n"
      ],
      "metadata": {
        "id": "cwQJwIDQArMD"
      }
    },
    {
      "cell_type": "markdown",
      "source": [
        "***ANSWER.8:***"
      ],
      "metadata": {
        "id": "zsbsrRsdBxPE"
      }
    },
    {
      "cell_type": "code",
      "source": [
        "import sqlite3\n",
        "con = sqlite3.connect('city.db')\n",
        "cur = con.cursor()\n",
        "cur.execute(\"CREATE TABLE cityweather (City text, Country text, Season text,Temperature float,Rainfall float)\")"
      ],
      "metadata": {
        "colab": {
          "base_uri": "https://localhost:8080/"
        },
        "id": "kZJiKGYLBwUz",
        "outputId": "018d7acd-c599-41fb-9de7-0c5daead6d8c"
      },
      "execution_count": 18,
      "outputs": [
        {
          "output_type": "execute_result",
          "data": {
            "text/plain": [
              "<sqlite3.Cursor at 0x7fc4ede73640>"
            ]
          },
          "metadata": {},
          "execution_count": 18
        }
      ]
    },
    {
      "cell_type": "code",
      "source": [
        "cur.execute(\"INSERT INTO cityweather VALUES ('Mumbai', 'India', 'Winter',24.8,5.9)\")\n",
        "cur.execute(\"INSERT INTO cityweather VALUES ('Mumbai', 'India', 'Spring',28.4,16.2)\")\n",
        "cur.execute(\"INSERT INTO cityweather VALUES ('Mumbai', 'India', 'Summer',27.9,1549.4 )\")\n",
        "cur.execute(\"INSERT INTO cityweather VALUES ('Mumbai', 'India', 'Fall',27.6,346.0)\")\n",
        "cur.execute(\"INSERT INTO cityweather VALUES ('London', 'United Kingdom', 'Winter',4.2,207.7 )\")\n",
        "cur.execute(\"INSERT INTO cityweather VALUES ('London', 'United Kingdom', 'Spring',8.3,169.6)\")\n",
        "cur.execute(\"INSERT INTO cityweather VALUES ('London', 'United Kingdom', 'Summer',15.7,157.0)\")\n",
        "cur.execute(\"INSERT INTO cityweather VALUES ('London', 'United Kingdom', 'Fall',10.4,218.5)\")\n",
        "cur.execute(\"INSERT INTO cityweather VALUES ('Cairo', 'Egypt', 'Winter',13.6,16.5)\")\n",
        "cur.execute(\"INSERT INTO cityweather VALUES ('Cairo', 'Egypt', 'Spring',20.7,6.5)\")\n",
        "cur.execute(\"INSERT INTO cityweather VALUES ('Cairo', 'Egypt', 'Summer',27.7,0.1)\")\n",
        "cur.execute(\"INSERT INTO cityweather VALUES ('Cairo', 'Egypt', 'Fall',22.2,4.5)\")"
      ],
      "metadata": {
        "colab": {
          "base_uri": "https://localhost:8080/"
        },
        "id": "42_zf6CuDWwi",
        "outputId": "f3bd4b68-f71e-47bd-bdcf-c8312241a6f4"
      },
      "execution_count": 19,
      "outputs": [
        {
          "output_type": "execute_result",
          "data": {
            "text/plain": [
              "<sqlite3.Cursor at 0x7fc4ede73640>"
            ]
          },
          "metadata": {},
          "execution_count": 19
        }
      ]
    },
    {
      "cell_type": "markdown",
      "source": [
        "8(a) All the temperature data"
      ],
      "metadata": {
        "id": "ZN_M_he8D-is"
      }
    },
    {
      "cell_type": "code",
      "source": [
        "cur.execute(\"Select Temperature from cityweather \")\n",
        "for i in cur:\n",
        "    print(i)"
      ],
      "metadata": {
        "colab": {
          "base_uri": "https://localhost:8080/"
        },
        "id": "qTJ8IZmhEM25",
        "outputId": "f1b4fafa-5ec0-4a33-cd07-cf54c7ca5934"
      },
      "execution_count": 20,
      "outputs": [
        {
          "output_type": "stream",
          "name": "stdout",
          "text": [
            "(24.8,)\n",
            "(28.4,)\n",
            "(27.9,)\n",
            "(27.6,)\n",
            "(4.2,)\n",
            "(8.3,)\n",
            "(15.7,)\n",
            "(10.4,)\n",
            "(13.6,)\n",
            "(20.7,)\n",
            "(27.7,)\n",
            "(22.2,)\n"
          ]
        }
      ]
    },
    {
      "cell_type": "markdown",
      "source": [
        "8(b) All the cities, but without repetition"
      ],
      "metadata": {
        "id": "a4D8g_9HEWeL"
      }
    },
    {
      "cell_type": "code",
      "source": [
        "cur.execute('SELECT DISTINCT City FROM cityweather')\n",
        "for i in cur:\n",
        "    print(i)"
      ],
      "metadata": {
        "colab": {
          "base_uri": "https://localhost:8080/"
        },
        "id": "1k9uIaEgEfja",
        "outputId": "3a44fd61-b9ae-4614-a00d-4f48de9f95be"
      },
      "execution_count": 21,
      "outputs": [
        {
          "output_type": "stream",
          "name": "stdout",
          "text": [
            "('Mumbai',)\n",
            "('London',)\n",
            "('Cairo',)\n"
          ]
        }
      ]
    },
    {
      "cell_type": "markdown",
      "source": [
        "8(c) All the records for India"
      ],
      "metadata": {
        "id": "6PNMs3GbElOU"
      }
    },
    {
      "cell_type": "code",
      "source": [
        "cur.execute(\"SELECT * FROM cityweather WHERE Country='India'\")\n",
        "for i in cur:\n",
        "    print(i)"
      ],
      "metadata": {
        "colab": {
          "base_uri": "https://localhost:8080/"
        },
        "id": "u610mj52Erzm",
        "outputId": "3ce6934b-56c2-4ffe-f2d4-1f9be82245a5"
      },
      "execution_count": 22,
      "outputs": [
        {
          "output_type": "stream",
          "name": "stdout",
          "text": [
            "('Mumbai', 'India', 'Winter', 24.8, 5.9)\n",
            "('Mumbai', 'India', 'Spring', 28.4, 16.2)\n",
            "('Mumbai', 'India', 'Summer', 27.9, 1549.4)\n",
            "('Mumbai', 'India', 'Fall', 27.6, 346.0)\n"
          ]
        }
      ]
    },
    {
      "cell_type": "markdown",
      "source": [
        "8(d) All the Fall records"
      ],
      "metadata": {
        "id": "tJNXFGooE0Tg"
      }
    },
    {
      "cell_type": "code",
      "source": [
        "cur.execute(\"SELECT * FROM cityweather WHERE Season='Fall'\")\n",
        "for i in cur:\n",
        "    print(i)"
      ],
      "metadata": {
        "colab": {
          "base_uri": "https://localhost:8080/"
        },
        "id": "MTDAeGVjE-En",
        "outputId": "c338ed9b-f68f-4931-aa15-52df0b80334b"
      },
      "execution_count": 23,
      "outputs": [
        {
          "output_type": "stream",
          "name": "stdout",
          "text": [
            "('Mumbai', 'India', 'Fall', 27.6, 346.0)\n",
            "('London', 'United Kingdom', 'Fall', 10.4, 218.5)\n",
            "('Cairo', 'Egypt', 'Fall', 22.2, 4.5)\n"
          ]
        }
      ]
    },
    {
      "cell_type": "markdown",
      "source": [
        "8(e) The city, country, and season for which the average rainfall is between 200\n",
        "and 400 millimeters"
      ],
      "metadata": {
        "id": "KmizLpDGE_4a"
      }
    },
    {
      "cell_type": "code",
      "source": [
        "cur.execute(\"SELECT City,country,Season FROM cityweather WHERE Rainfall BETWEEN 200 AND 400\")\n",
        "for i in cur:\n",
        "    print(i)"
      ],
      "metadata": {
        "colab": {
          "base_uri": "https://localhost:8080/"
        },
        "id": "PhM3lVBzFHbc",
        "outputId": "bd290ec4-5264-48ca-9457-096913d5238a"
      },
      "execution_count": 24,
      "outputs": [
        {
          "output_type": "stream",
          "name": "stdout",
          "text": [
            "('Mumbai', 'India', 'Fall')\n",
            "('London', 'United Kingdom', 'Winter')\n",
            "('London', 'United Kingdom', 'Fall')\n"
          ]
        }
      ]
    },
    {
      "cell_type": "markdown",
      "source": [
        "8(f) The city and country for which the average Fall temperature is above 20\n",
        "degrees, in increasing temperature order"
      ],
      "metadata": {
        "id": "0xT8z6gOFTLP"
      }
    },
    {
      "cell_type": "code",
      "source": [
        "cur.execute(\"SELECT City,country,temperature FROM cityweather WHERE Season='Fall' AND temperature > 20 ORDER BY temperature ASC\")\n",
        "for i in cur:\n",
        "    print(i)"
      ],
      "metadata": {
        "colab": {
          "base_uri": "https://localhost:8080/"
        },
        "id": "JljE9cmAFlE2",
        "outputId": "ea9e93ac-9fee-41d8-bc6d-dbf62b22a306"
      },
      "execution_count": 25,
      "outputs": [
        {
          "output_type": "stream",
          "name": "stdout",
          "text": [
            "('Cairo', 'Egypt', 22.2)\n",
            "('Mumbai', 'India', 27.6)\n"
          ]
        }
      ]
    },
    {
      "cell_type": "markdown",
      "source": [
        "8(g) The total annual rainfall for Cairo"
      ],
      "metadata": {
        "id": "CC9T6n2ZFn3B"
      }
    },
    {
      "cell_type": "code",
      "source": [
        "cur.execute(\"SELECT City,SUM(Rainfall) FROM cityweather WHERE City='Cairo'\")\n",
        "for i in cur:\n",
        "    print(i)"
      ],
      "metadata": {
        "colab": {
          "base_uri": "https://localhost:8080/"
        },
        "id": "aNaemEW6Fwdv",
        "outputId": "24d54d4b-a3d9-42f3-e8da-04bdfca9aa85"
      },
      "execution_count": 26,
      "outputs": [
        {
          "output_type": "stream",
          "name": "stdout",
          "text": [
            "('Cairo', 27.6)\n"
          ]
        }
      ]
    },
    {
      "cell_type": "markdown",
      "source": [
        "8(h) The total rainfall for each season"
      ],
      "metadata": {
        "id": "cJGNEV72F6lD"
      }
    },
    {
      "cell_type": "code",
      "source": [
        "cur.execute(\"SELECT Season,SUM(Rainfall) FROM cityweather GROUP BY Season\")\n",
        "for i in cur:\n",
        "    print(i)"
      ],
      "metadata": {
        "colab": {
          "base_uri": "https://localhost:8080/"
        },
        "id": "4aycGZeFF-Vr",
        "outputId": "9861fa7c-2ecf-42c9-fca3-ba8051652253"
      },
      "execution_count": 27,
      "outputs": [
        {
          "output_type": "stream",
          "name": "stdout",
          "text": [
            "('Fall', 569.0)\n",
            "('Spring', 192.29999999999998)\n",
            "('Summer', 1706.5)\n",
            "('Winter', 230.1)\n"
          ]
        }
      ]
    },
    {
      "cell_type": "markdown",
      "source": [
        "***Question 9***\n",
        "\n",
        " Suppose list words is defined as follows:\n",
        "\n",
        "\n",
        "```\n",
        ">>> words = ['The', 'quick', 'brown', 'fox', 'jumps', 'over',\n",
        "'the', 'lazy', 'dog']\n",
        "```\n",
        "\n",
        "\n",
        "Write list comprehension expressions that use list words and generate the following\n",
        "lists:\n",
        "\n",
        "a) ['THE', 'QUICK', 'BROWN', 'FOX', 'JUMPS', 'OVER', 'THE',\n",
        "'LAZY', 'DOG']\n",
        "\n",
        "b) ['the', 'quick', 'brown', 'fox', 'jumps', 'over', 'the',\n",
        "'lazy', 'dog']\n",
        "\n",
        "c) [3, 5, 5, 3, 5, 4, 3, 4, 3] (the list of lengths of words in list\n",
        "words).\n",
        "\n",
        "d) [['THE', 'the', 3], ['QUICK', 'quick', 5], ['BROWN',\n",
        "'brown', 5], ['FOX', 'fox', 3], ['JUMPS', 'jumps', 5],\n",
        "['OVER', 'over', 4], ['THE', 'the', 3], ['LAZY', 'lazy',\n",
        "4], ['DOG', 'dog', 3]] (the list containing a list for every word of list\n",
        "words, where each list contains the word in uppercase and lowercase and the\n",
        "length of the word.)\n",
        "\n",
        "e) ['The', 'quick', 'brown', 'fox', 'jumps', 'over', 'the',\n",
        "'lazy', 'dog'] (the list of words in list words containing 4 or more\n",
        "characters.)"
      ],
      "metadata": {
        "id": "figC6PQAGHxJ"
      }
    },
    {
      "cell_type": "markdown",
      "source": [
        "***ANSWER.9:***"
      ],
      "metadata": {
        "id": "B6XchKAeG1kx"
      }
    },
    {
      "cell_type": "code",
      "source": [
        "words = ['The', 'Quick', 'brown', 'fox', 'jumps', 'over', 'the', 'lazy', 'dog' ]\n",
        "\n",
        "upper_word = [i.upper() for i in words]\n",
        "lower_word = [i.lower() for i in words]\n",
        "len_word = [len(i) for i in words]\n",
        "zip = [[a , b , c] for (a, b, c) in zip(upper_word, lower_word, len_word)]\n",
        "four_char = [i for i in words if len(i)>3]\n",
        "\n",
        "print(f'a: {upper_word}')\n",
        "print(f'b: {lower_word}')\n",
        "print(f'c: {len_word}')\n",
        "print(f'd: {zip}')\n",
        "print(f'e:{four_char}')"
      ],
      "metadata": {
        "colab": {
          "base_uri": "https://localhost:8080/"
        },
        "id": "NmxTNiSkHVxo",
        "outputId": "36a3c02e-43d1-42ba-c7ac-ddcd714e683f"
      },
      "execution_count": 28,
      "outputs": [
        {
          "output_type": "stream",
          "name": "stdout",
          "text": [
            "a: ['THE', 'QUICK', 'BROWN', 'FOX', 'JUMPS', 'OVER', 'THE', 'LAZY', 'DOG']\n",
            "b: ['the', 'quick', 'brown', 'fox', 'jumps', 'over', 'the', 'lazy', 'dog']\n",
            "c: [3, 5, 5, 3, 5, 4, 3, 4, 3]\n",
            "d: [['THE', 'the', 3], ['QUICK', 'quick', 5], ['BROWN', 'brown', 5], ['FOX', 'fox', 3], ['JUMPS', 'jumps', 5], ['OVER', 'over', 4], ['THE', 'the', 3], ['LAZY', 'lazy', 4], ['DOG', 'dog', 3]]\n",
            "e:['Quick', 'brown', 'jumps', 'over', 'lazy']\n"
          ]
        }
      ]
    }
  ]
}